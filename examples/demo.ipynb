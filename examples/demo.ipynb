{
 "cells": [
  {
   "cell_type": "code",
   "execution_count": 1,
   "metadata": {},
   "outputs": [],
   "source": [
    "import logging\n",
    "import numpy as np\n",
    "import pandas as pd\n",
    "\n",
    "from validata.parser import Parser\n",
    "from validata.validator import Validator\n",
    "from validata.comparators import Comparator\n",
    "\n",
    "%load_ext autoreload\n",
    "%autoreload 2"
   ]
  },
  {
   "cell_type": "code",
   "execution_count": 7,
   "metadata": {},
   "outputs": [],
   "source": [
    "# Enable to see what is going on under the hood\n",
    "logging.basicConfig(level=logging.DEBUG)"
   ]
  },
  {
   "cell_type": "markdown",
   "metadata": {},
   "source": [
    "## Create some data"
   ]
  },
  {
   "cell_type": "code",
   "execution_count": 8,
   "metadata": {},
   "outputs": [
    {
     "data": {
      "text/html": [
       "<div>\n",
       "<style scoped>\n",
       "    .dataframe tbody tr th:only-of-type {\n",
       "        vertical-align: middle;\n",
       "    }\n",
       "\n",
       "    .dataframe tbody tr th {\n",
       "        vertical-align: top;\n",
       "    }\n",
       "\n",
       "    .dataframe thead th {\n",
       "        text-align: right;\n",
       "    }\n",
       "</style>\n",
       "<table border=\"1\" class=\"dataframe\">\n",
       "  <thead>\n",
       "    <tr style=\"text-align: right;\">\n",
       "      <th></th>\n",
       "      <th>id</th>\n",
       "      <th>size</th>\n",
       "      <th>income_1</th>\n",
       "      <th>income_2</th>\n",
       "    </tr>\n",
       "  </thead>\n",
       "  <tbody>\n",
       "    <tr>\n",
       "      <th>0</th>\n",
       "      <td>0</td>\n",
       "      <td>2</td>\n",
       "      <td>19686</td>\n",
       "      <td>8285</td>\n",
       "    </tr>\n",
       "    <tr>\n",
       "      <th>1</th>\n",
       "      <td>1</td>\n",
       "      <td>5</td>\n",
       "      <td>108988</td>\n",
       "      <td>2910</td>\n",
       "    </tr>\n",
       "    <tr>\n",
       "      <th>2</th>\n",
       "      <td>2</td>\n",
       "      <td>1</td>\n",
       "      <td>8487</td>\n",
       "      <td>14445</td>\n",
       "    </tr>\n",
       "    <tr>\n",
       "      <th>3</th>\n",
       "      <td>3</td>\n",
       "      <td>1</td>\n",
       "      <td>24735</td>\n",
       "      <td>10088</td>\n",
       "    </tr>\n",
       "    <tr>\n",
       "      <th>4</th>\n",
       "      <td>4</td>\n",
       "      <td>2</td>\n",
       "      <td>11487</td>\n",
       "      <td>3897</td>\n",
       "    </tr>\n",
       "    <tr>\n",
       "      <th>5</th>\n",
       "      <td>5</td>\n",
       "      <td>2</td>\n",
       "      <td>79127</td>\n",
       "      <td>823</td>\n",
       "    </tr>\n",
       "    <tr>\n",
       "      <th>6</th>\n",
       "      <td>6</td>\n",
       "      <td>1</td>\n",
       "      <td>92632</td>\n",
       "      <td>15430</td>\n",
       "    </tr>\n",
       "    <tr>\n",
       "      <th>7</th>\n",
       "      <td>7</td>\n",
       "      <td>1</td>\n",
       "      <td>12646</td>\n",
       "      <td>1673</td>\n",
       "    </tr>\n",
       "    <tr>\n",
       "      <th>8</th>\n",
       "      <td>8</td>\n",
       "      <td>1</td>\n",
       "      <td>40850</td>\n",
       "      <td>1969</td>\n",
       "    </tr>\n",
       "    <tr>\n",
       "      <th>9</th>\n",
       "      <td>9</td>\n",
       "      <td>1</td>\n",
       "      <td>7091</td>\n",
       "      <td>23737</td>\n",
       "    </tr>\n",
       "  </tbody>\n",
       "</table>\n",
       "</div>"
      ],
      "text/plain": [
       "   id  size  income_1  income_2\n",
       "0   0     2     19686      8285\n",
       "1   1     5    108988      2910\n",
       "2   2     1      8487     14445\n",
       "3   3     1     24735     10088\n",
       "4   4     2     11487      3897\n",
       "5   5     2     79127       823\n",
       "6   6     1     92632     15430\n",
       "7   7     1     12646      1673\n",
       "8   8     1     40850      1969\n",
       "9   9     1      7091     23737"
      ]
     },
     "execution_count": 8,
     "metadata": {},
     "output_type": "execute_result"
    }
   ],
   "source": [
    "n = 10\n",
    "\n",
    "households = pd.DataFrame({\n",
    "    \"id\": np.arange(n),\n",
    "    \"size\": (np.random.standard_exponential(n) + 1).astype(int),\n",
    "    \"income_1\": (np.random.standard_exponential(n) * 30e3).astype(int),\n",
    "    \"income_2\": (np.random.standard_exponential(n) * 20e3).astype(int),\n",
    "})\n",
    "\n",
    "households"
   ]
  },
  {
   "cell_type": "markdown",
   "metadata": {},
   "source": [
    "## Performing a single validation"
   ]
  },
  {
   "cell_type": "markdown",
   "metadata": {},
   "source": [
    "Validata lets you perform validations on each record in the data set. In the simplest form, a validation is formulated as a single logical condition, for example:\n",
    "\n",
    "```\n",
    "income_1 < 30000\n",
    "```\n",
    "\n",
    "In this example, `income_1` is a column in a data set. The `<` sign is a comparison operator (aka Comparator) and `30000` the value to compare against. The general form for a validation thus is:\n",
    "\n",
    "```\n",
    "<column name> <comparison operator> <value>\n",
    "```\n",
    "\n",
    "The `Parser` class allows you to perform a single validation, as is demonstrated below:"
   ]
  },
  {
   "cell_type": "code",
   "execution_count": 9,
   "metadata": {},
   "outputs": [
    {
     "name": "stderr",
     "output_type": "stream",
     "text": [
      "DEBUG:validata.parser:Processing token: income_1 < 30000 [BARE WORD]\n",
      "DEBUG:validata.parser:Evaluating expression: income_1 < 30000\n",
      "DEBUG:validata.evaluator:Selected columns: income_1.\n",
      "DEBUG:validata.evaluator:Using comparator: LtComparator.\n"
     ]
    },
    {
     "data": {
      "text/html": [
       "<div>\n",
       "<style scoped>\n",
       "    .dataframe tbody tr th:only-of-type {\n",
       "        vertical-align: middle;\n",
       "    }\n",
       "\n",
       "    .dataframe tbody tr th {\n",
       "        vertical-align: top;\n",
       "    }\n",
       "\n",
       "    .dataframe thead th {\n",
       "        text-align: right;\n",
       "    }\n",
       "</style>\n",
       "<table border=\"1\" class=\"dataframe\">\n",
       "  <thead>\n",
       "    <tr style=\"text-align: right;\">\n",
       "      <th></th>\n",
       "      <th>income_1</th>\n",
       "    </tr>\n",
       "  </thead>\n",
       "  <tbody>\n",
       "    <tr>\n",
       "      <th>0</th>\n",
       "      <td>True</td>\n",
       "    </tr>\n",
       "    <tr>\n",
       "      <th>1</th>\n",
       "      <td>False</td>\n",
       "    </tr>\n",
       "    <tr>\n",
       "      <th>2</th>\n",
       "      <td>True</td>\n",
       "    </tr>\n",
       "    <tr>\n",
       "      <th>3</th>\n",
       "      <td>True</td>\n",
       "    </tr>\n",
       "    <tr>\n",
       "      <th>4</th>\n",
       "      <td>True</td>\n",
       "    </tr>\n",
       "    <tr>\n",
       "      <th>5</th>\n",
       "      <td>False</td>\n",
       "    </tr>\n",
       "    <tr>\n",
       "      <th>6</th>\n",
       "      <td>False</td>\n",
       "    </tr>\n",
       "    <tr>\n",
       "      <th>7</th>\n",
       "      <td>True</td>\n",
       "    </tr>\n",
       "    <tr>\n",
       "      <th>8</th>\n",
       "      <td>False</td>\n",
       "    </tr>\n",
       "    <tr>\n",
       "      <th>9</th>\n",
       "      <td>True</td>\n",
       "    </tr>\n",
       "  </tbody>\n",
       "</table>\n",
       "</div>"
      ],
      "text/plain": [
       "   income_1\n",
       "0      True\n",
       "1     False\n",
       "2      True\n",
       "3      True\n",
       "4      True\n",
       "5     False\n",
       "6     False\n",
       "7      True\n",
       "8     False\n",
       "9      True"
      ]
     },
     "execution_count": 9,
     "metadata": {},
     "output_type": "execute_result"
    }
   ],
   "source": [
    "# Create a Parser and supply it with a validation\n",
    "ps = Parser(\"income_1 < 30000\")\n",
    "\n",
    "# Perform the validation on the households data set\n",
    "ps.evaluate(households)"
   ]
  },
  {
   "cell_type": "markdown",
   "metadata": {},
   "source": [
    "As you can see, the `Parser` applied the logical validation to each row of the `households` data set. It returned `True` for all rows with `income_1` smaller than `30000` and `False` otherwise.\n",
    "\n",
    "To see which other types of comparisons are available, use the `list()` method of the `Comparator` base class like so:"
   ]
  },
  {
   "cell_type": "code",
   "execution_count": 10,
   "metadata": {},
   "outputs": [
    {
     "data": {
      "text/plain": [
       "{'!=', '<', '<=', '==', '>', '>=', 'between', 'in', 'missing', 'not missing'}"
      ]
     },
     "execution_count": 10,
     "metadata": {},
     "output_type": "execute_result"
    }
   ],
   "source": [
    "# Show which comparison operators are available\n",
    "Comparator.list()"
   ]
  },
  {
   "cell_type": "markdown",
   "metadata": {},
   "source": [
    "### Combining Validations"
   ]
  },
  {
   "cell_type": "markdown",
   "metadata": {},
   "source": [
    "The `Parser` also allows you to combine validation checks using `and` or `or`. When `and` is used both the left hand and the right hand condition need to be `True` for the entire validation to be `True`. With `or` only one condition needs to be `True`. Some simple examples:"
   ]
  },
  {
   "cell_type": "code",
   "execution_count": 11,
   "metadata": {},
   "outputs": [
    {
     "name": "stderr",
     "output_type": "stream",
     "text": [
      "DEBUG:validata.parser:Processing token: income_1 > 30000 [BARE WORD]\n",
      "DEBUG:validata.parser:Evaluating expression: income_1 > 30000\n",
      "DEBUG:validata.evaluator:Selected columns: income_1.\n",
      "DEBUG:validata.evaluator:Using comparator: GtComparator.\n",
      "DEBUG:validata.parser:Processing token:  or  [OR]\n",
      "DEBUG:validata.parser:Processing  or  expression.\n",
      "DEBUG:validata.parser:Processing token: income_2 > 30000\n",
      "DEBUG:validata.parser:Evaluating right hand side expression.\n",
      "DEBUG:validata.evaluator:Selected columns: income_2.\n",
      "DEBUG:validata.evaluator:Using comparator: GtComparator.\n"
     ]
    },
    {
     "data": {
      "text/html": [
       "<div>\n",
       "<style scoped>\n",
       "    .dataframe tbody tr th:only-of-type {\n",
       "        vertical-align: middle;\n",
       "    }\n",
       "\n",
       "    .dataframe tbody tr th {\n",
       "        vertical-align: top;\n",
       "    }\n",
       "\n",
       "    .dataframe thead th {\n",
       "        text-align: right;\n",
       "    }\n",
       "</style>\n",
       "<table border=\"1\" class=\"dataframe\">\n",
       "  <thead>\n",
       "    <tr style=\"text-align: right;\">\n",
       "      <th></th>\n",
       "      <th>0</th>\n",
       "    </tr>\n",
       "  </thead>\n",
       "  <tbody>\n",
       "    <tr>\n",
       "      <th>0</th>\n",
       "      <td>False</td>\n",
       "    </tr>\n",
       "    <tr>\n",
       "      <th>1</th>\n",
       "      <td>True</td>\n",
       "    </tr>\n",
       "    <tr>\n",
       "      <th>2</th>\n",
       "      <td>False</td>\n",
       "    </tr>\n",
       "    <tr>\n",
       "      <th>3</th>\n",
       "      <td>False</td>\n",
       "    </tr>\n",
       "    <tr>\n",
       "      <th>4</th>\n",
       "      <td>False</td>\n",
       "    </tr>\n",
       "    <tr>\n",
       "      <th>5</th>\n",
       "      <td>True</td>\n",
       "    </tr>\n",
       "    <tr>\n",
       "      <th>6</th>\n",
       "      <td>True</td>\n",
       "    </tr>\n",
       "    <tr>\n",
       "      <th>7</th>\n",
       "      <td>False</td>\n",
       "    </tr>\n",
       "    <tr>\n",
       "      <th>8</th>\n",
       "      <td>True</td>\n",
       "    </tr>\n",
       "    <tr>\n",
       "      <th>9</th>\n",
       "      <td>False</td>\n",
       "    </tr>\n",
       "  </tbody>\n",
       "</table>\n",
       "</div>"
      ],
      "text/plain": [
       "       0\n",
       "0  False\n",
       "1   True\n",
       "2  False\n",
       "3  False\n",
       "4  False\n",
       "5   True\n",
       "6   True\n",
       "7  False\n",
       "8   True\n",
       "9  False"
      ]
     },
     "execution_count": 11,
     "metadata": {},
     "output_type": "execute_result"
    }
   ],
   "source": [
    "# Both income columns need to be larger than 30000\n",
    "both_incomes_high = \"income_1 > 30000 and income_2 > 30000\"\n",
    "\n",
    "# Either income is high\n",
    "one_income_high = \"income_1 > 30000 or income_2 > 30000\"\n",
    "\n",
    "# Feel free to test using the Parser\n",
    "ps = Parser(one_income_high)\n",
    "ps.evaluate(households)"
   ]
  },
  {
   "cell_type": "markdown",
   "metadata": {},
   "source": [
    "In addition, you can group conditions using brackets `(...)`. Especially when using `and` and `or` together, this prevents ambiguous statements. For example: "
   ]
  },
  {
   "cell_type": "code",
   "execution_count": 23,
   "metadata": {},
   "outputs": [
    {
     "name": "stderr",
     "output_type": "stream",
     "text": [
      "DEBUG:validata.parser:Processing token: ( [GROUP_OPEN]\n",
      "DEBUG:validata.parser:Entering nested expression.\n",
      "DEBUG:validata.parser:Processing token: size == 1 [BARE WORD]\n",
      "DEBUG:validata.parser:Evaluating expression: size == 1\n",
      "DEBUG:validata.evaluator:Selected columns: size.\n",
      "DEBUG:validata.evaluator:Using comparator: EqComparator.\n",
      "DEBUG:validata.parser:Processing token:  and  [AND]\n",
      "DEBUG:validata.parser:Processing  and  expression.\n",
      "DEBUG:validata.parser:Processing token: income_1 missing\n",
      "DEBUG:validata.parser:Evaluating right hand side expression.\n",
      "DEBUG:validata.evaluator:Selected columns: income_1.\n",
      "DEBUG:validata.evaluator:Using comparator: NullComparator.\n",
      "DEBUG:validata.parser:Processing token:  and  [AND]\n",
      "DEBUG:validata.parser:Processing  and  expression.\n",
      "DEBUG:validata.parser:Processing token: income_2 missing\n",
      "DEBUG:validata.parser:Evaluating right hand side expression.\n",
      "DEBUG:validata.evaluator:Selected columns: income_2.\n",
      "DEBUG:validata.evaluator:Using comparator: NullComparator.\n",
      "DEBUG:validata.parser:Processing token: ) [GROUP_CLOSE]\n",
      "DEBUG:validata.parser:Exiting nested expression.\n",
      "DEBUG:validata.parser:Processing token:  or  [OR]\n",
      "DEBUG:validata.parser:Processing  or  expression.\n",
      "DEBUG:validata.parser:Processing token: ( [GROUP_OPEN]\n",
      "DEBUG:validata.parser:Entering nested right hand side expression.\n",
      "DEBUG:validata.parser:Processing token: size == 2 [BARE WORD]\n",
      "DEBUG:validata.parser:Evaluating expression: size == 2\n",
      "DEBUG:validata.evaluator:Selected columns: size.\n",
      "DEBUG:validata.evaluator:Using comparator: EqComparator.\n",
      "DEBUG:validata.parser:Processing token:  and  [AND]\n",
      "DEBUG:validata.parser:Processing  and  expression.\n",
      "DEBUG:validata.parser:Processing token: ( [GROUP_OPEN]\n",
      "DEBUG:validata.parser:Entering nested right hand side expression.\n",
      "DEBUG:validata.parser:Processing token: income_1 missing [BARE WORD]\n",
      "DEBUG:validata.parser:Evaluating expression: income_1 missing\n",
      "DEBUG:validata.evaluator:Selected columns: income_1.\n",
      "DEBUG:validata.evaluator:Using comparator: NullComparator.\n",
      "DEBUG:validata.parser:Processing token:  or  [OR]\n",
      "DEBUG:validata.parser:Processing  or  expression.\n",
      "DEBUG:validata.parser:Processing token: income_2 missing\n",
      "DEBUG:validata.parser:Evaluating right hand side expression.\n",
      "DEBUG:validata.evaluator:Selected columns: income_2.\n",
      "DEBUG:validata.evaluator:Using comparator: NullComparator.\n",
      "DEBUG:validata.parser:Processing token: ) [GROUP_CLOSE]\n",
      "DEBUG:validata.parser:Exiting nested expression.\n"
     ]
    },
    {
     "data": {
      "text/html": [
       "<div>\n",
       "<style scoped>\n",
       "    .dataframe tbody tr th:only-of-type {\n",
       "        vertical-align: middle;\n",
       "    }\n",
       "\n",
       "    .dataframe tbody tr th {\n",
       "        vertical-align: top;\n",
       "    }\n",
       "\n",
       "    .dataframe thead th {\n",
       "        text-align: right;\n",
       "    }\n",
       "</style>\n",
       "<table border=\"1\" class=\"dataframe\">\n",
       "  <thead>\n",
       "    <tr style=\"text-align: right;\">\n",
       "      <th></th>\n",
       "      <th>0</th>\n",
       "    </tr>\n",
       "  </thead>\n",
       "  <tbody>\n",
       "    <tr>\n",
       "      <th>0</th>\n",
       "      <td>False</td>\n",
       "    </tr>\n",
       "    <tr>\n",
       "      <th>1</th>\n",
       "      <td>False</td>\n",
       "    </tr>\n",
       "    <tr>\n",
       "      <th>2</th>\n",
       "      <td>False</td>\n",
       "    </tr>\n",
       "    <tr>\n",
       "      <th>3</th>\n",
       "      <td>False</td>\n",
       "    </tr>\n",
       "    <tr>\n",
       "      <th>4</th>\n",
       "      <td>False</td>\n",
       "    </tr>\n",
       "    <tr>\n",
       "      <th>5</th>\n",
       "      <td>False</td>\n",
       "    </tr>\n",
       "    <tr>\n",
       "      <th>6</th>\n",
       "      <td>False</td>\n",
       "    </tr>\n",
       "    <tr>\n",
       "      <th>7</th>\n",
       "      <td>False</td>\n",
       "    </tr>\n",
       "    <tr>\n",
       "      <th>8</th>\n",
       "      <td>False</td>\n",
       "    </tr>\n",
       "    <tr>\n",
       "      <th>9</th>\n",
       "      <td>False</td>\n",
       "    </tr>\n",
       "  </tbody>\n",
       "</table>\n",
       "</div>"
      ],
      "text/plain": [
       "       0\n",
       "0  False\n",
       "1  False\n",
       "2  False\n",
       "3  False\n",
       "4  False\n",
       "5  False\n",
       "6  False\n",
       "7  False\n",
       "8  False\n",
       "9  False"
      ]
     },
     "execution_count": 23,
     "metadata": {},
     "output_type": "execute_result"
    }
   ],
   "source": [
    "# Cases where an income may be missing\n",
    "extra_income = \"\"\"\n",
    "    (size == 1 and income_1 missing and income_2 missing) or\n",
    "(size == 2 and (income_1 missing or income_2 missing)\n",
    "\"\"\"\n",
    "\n",
    "ps = Parser(extra_income)\n",
    "ps.evaluate(households)"
   ]
  },
  {
   "cell_type": "markdown",
   "metadata": {},
   "source": [
    "### Operators and multiple columns"
   ]
  },
  {
   "cell_type": "markdown",
   "metadata": {},
   "source": [
    "In the previous examples, the conditions involved only a single columns. However, it is possible to select multiple columns:\n",
    "\n",
    "```\n",
    "column_1 + column_2 + ... + column_n\n",
    "```\n",
    "\n",
    "Multiple column names can be provided by concatenating them with the plus sign (`+`).\n",
    "\n",
    "```\n",
    "column_*\n",
    "```\n",
    "\n",
    "Using the wildcard sign (`*`) selects all columns that start with `column_`. When multiple columns are selected, an `Operator` is needed to aggregate them to a single one. There are two types of `Operator`s:\n",
    "\n",
    "#### DataOperator\n",
    "A `DataOperator` performs an aggregation before it is send to a `Comparator`; it operates on the raw data. Common examples are `mean` or `sum`, which compute the mean and sum of the selected columns respectively.\n",
    "\n",
    "#### LogicalOperators\n",
    "A `LogicalOperator` performs an aggregation after a `Comparator` is used; it aggregates the boolean output from the `Comparator`. A common example is the `any` operator, which returns `True` if any of the input columns equals `True`."
   ]
  },
  {
   "cell_type": "markdown",
   "metadata": {},
   "source": []
  },
  {
   "cell_type": "code",
   "execution_count": null,
   "metadata": {},
   "outputs": [],
   "source": []
  },
  {
   "cell_type": "markdown",
   "metadata": {},
   "source": [
    "## Validator: Performing many checks"
   ]
  },
  {
   "cell_type": "markdown",
   "metadata": {},
   "source": [
    "### Define a data frame with validations"
   ]
  },
  {
   "cell_type": "code",
   "execution_count": 5,
   "metadata": {},
   "outputs": [
    {
     "data": {
      "text/html": [
       "<div>\n",
       "<style scoped>\n",
       "    .dataframe tbody tr th:only-of-type {\n",
       "        vertical-align: middle;\n",
       "    }\n",
       "\n",
       "    .dataframe tbody tr th {\n",
       "        vertical-align: top;\n",
       "    }\n",
       "\n",
       "    .dataframe thead th {\n",
       "        text-align: right;\n",
       "    }\n",
       "</style>\n",
       "<table border=\"1\" class=\"dataframe\">\n",
       "  <thead>\n",
       "    <tr style=\"text-align: right;\">\n",
       "      <th></th>\n",
       "      <th>name</th>\n",
       "      <th>expression</th>\n",
       "    </tr>\n",
       "  </thead>\n",
       "  <tbody>\n",
       "    <tr>\n",
       "      <th>0</th>\n",
       "      <td>large_size</td>\n",
       "      <td>size &gt; 2</td>\n",
       "    </tr>\n",
       "    <tr>\n",
       "      <th>1</th>\n",
       "      <td>income_missing</td>\n",
       "      <td>any income_* missing</td>\n",
       "    </tr>\n",
       "    <tr>\n",
       "      <th>2</th>\n",
       "      <td>high_collective_income</td>\n",
       "      <td>sum income_* &gt; 100000</td>\n",
       "    </tr>\n",
       "  </tbody>\n",
       "</table>\n",
       "</div>"
      ],
      "text/plain": [
       "                     name             expression\n",
       "0              large_size               size > 2\n",
       "1          income_missing   any income_* missing\n",
       "2  high_collective_income  sum income_* > 100000"
      ]
     },
     "execution_count": 5,
     "metadata": {},
     "output_type": "execute_result"
    }
   ],
   "source": [
    "checks_df = pd.DataFrame(\n",
    "    data=[\n",
    "        [\"large_size\", \"size > 2\"],\n",
    "        [\"income_missing\", \"any income_* missing\"],\n",
    "        [\"high_collective_income\", \"sum income_* > 100000\"]\n",
    "    ],\n",
    "    columns=[\"name\", \"expression\"]\n",
    ")\n",
    "checks_df"
   ]
  },
  {
   "cell_type": "markdown",
   "metadata": {},
   "source": [
    "### Run all validations"
   ]
  },
  {
   "cell_type": "code",
   "execution_count": 6,
   "metadata": {},
   "outputs": [
    {
     "name": "stderr",
     "output_type": "stream",
     "text": [
      "DEBUG:validata.validator:Performing validation: large_size.\n",
      "DEBUG:validata.parser:Processing token: size > 2 [BARE WORD]\n",
      "DEBUG:validata.parser:Evaluating expression: size > 2\n",
      "DEBUG:validata.evaluator:Selected columns: size.\n",
      "DEBUG:validata.evaluator:Using comparator: GtComparator.\n",
      "DEBUG:validata.validator:Validated 10 rows - 30% evaluated to True.\n",
      "DEBUG:validata.validator:Finished validation: large_size.\n",
      "DEBUG:validata.validator:Performing validation: income_missing.\n",
      "DEBUG:validata.parser:Processing token: any income_* missing [BARE WORD]\n",
      "DEBUG:validata.parser:Evaluating expression: any income_* missing\n",
      "DEBUG:validata.evaluator:Selected columns: income_1, income_2.\n",
      "DEBUG:validata.evaluator:Using comparator: NullComparator.\n",
      "DEBUG:validata.evaluator:Using operator: AnyOperator.\n",
      "DEBUG:validata.validator:Validated 10 rows - 0% evaluated to True.\n",
      "DEBUG:validata.validator:Finished validation: income_missing.\n",
      "DEBUG:validata.validator:Performing validation: high_collective_income.\n",
      "DEBUG:validata.parser:Processing token: sum income_* > 100000 [BARE WORD]\n",
      "DEBUG:validata.parser:Evaluating expression: sum income_* > 100000\n",
      "DEBUG:validata.evaluator:Selected columns: income_1, income_2.\n",
      "DEBUG:validata.evaluator:Using comparator: GtComparator.\n",
      "DEBUG:validata.evaluator:Using operator: SumOperator.\n",
      "DEBUG:validata.validator:Validated 10 rows - 20% evaluated to True.\n",
      "DEBUG:validata.validator:Finished validation: high_collective_income.\n"
     ]
    }
   ],
   "source": [
    "vd = Validator(checks_df)\n",
    "results = vd.validate(households)"
   ]
  },
  {
   "cell_type": "code",
   "execution_count": 7,
   "metadata": {},
   "outputs": [
    {
     "data": {
      "text/html": [
       "<div>\n",
       "<style scoped>\n",
       "    .dataframe tbody tr th:only-of-type {\n",
       "        vertical-align: middle;\n",
       "    }\n",
       "\n",
       "    .dataframe tbody tr th {\n",
       "        vertical-align: top;\n",
       "    }\n",
       "\n",
       "    .dataframe thead th {\n",
       "        text-align: right;\n",
       "    }\n",
       "</style>\n",
       "<table border=\"1\" class=\"dataframe\">\n",
       "  <thead>\n",
       "    <tr style=\"text-align: right;\">\n",
       "      <th></th>\n",
       "      <th>large_size</th>\n",
       "      <th>income_missing</th>\n",
       "      <th>high_collective_income</th>\n",
       "    </tr>\n",
       "  </thead>\n",
       "  <tbody>\n",
       "    <tr>\n",
       "      <th>0</th>\n",
       "      <td>True</td>\n",
       "      <td>False</td>\n",
       "      <td>False</td>\n",
       "    </tr>\n",
       "    <tr>\n",
       "      <th>1</th>\n",
       "      <td>False</td>\n",
       "      <td>False</td>\n",
       "      <td>False</td>\n",
       "    </tr>\n",
       "    <tr>\n",
       "      <th>2</th>\n",
       "      <td>False</td>\n",
       "      <td>False</td>\n",
       "      <td>False</td>\n",
       "    </tr>\n",
       "    <tr>\n",
       "      <th>3</th>\n",
       "      <td>False</td>\n",
       "      <td>False</td>\n",
       "      <td>False</td>\n",
       "    </tr>\n",
       "    <tr>\n",
       "      <th>4</th>\n",
       "      <td>True</td>\n",
       "      <td>False</td>\n",
       "      <td>False</td>\n",
       "    </tr>\n",
       "    <tr>\n",
       "      <th>5</th>\n",
       "      <td>False</td>\n",
       "      <td>False</td>\n",
       "      <td>False</td>\n",
       "    </tr>\n",
       "    <tr>\n",
       "      <th>6</th>\n",
       "      <td>False</td>\n",
       "      <td>False</td>\n",
       "      <td>True</td>\n",
       "    </tr>\n",
       "    <tr>\n",
       "      <th>7</th>\n",
       "      <td>False</td>\n",
       "      <td>False</td>\n",
       "      <td>False</td>\n",
       "    </tr>\n",
       "    <tr>\n",
       "      <th>8</th>\n",
       "      <td>True</td>\n",
       "      <td>False</td>\n",
       "      <td>True</td>\n",
       "    </tr>\n",
       "    <tr>\n",
       "      <th>9</th>\n",
       "      <td>False</td>\n",
       "      <td>False</td>\n",
       "      <td>False</td>\n",
       "    </tr>\n",
       "  </tbody>\n",
       "</table>\n",
       "</div>"
      ],
      "text/plain": [
       "   large_size  income_missing  high_collective_income\n",
       "0        True           False                   False\n",
       "1       False           False                   False\n",
       "2       False           False                   False\n",
       "3       False           False                   False\n",
       "4        True           False                   False\n",
       "5       False           False                   False\n",
       "6       False           False                    True\n",
       "7       False           False                   False\n",
       "8        True           False                    True\n",
       "9       False           False                   False"
      ]
     },
     "execution_count": 7,
     "metadata": {},
     "output_type": "execute_result"
    }
   ],
   "source": [
    "results"
   ]
  },
  {
   "cell_type": "code",
   "execution_count": 8,
   "metadata": {},
   "outputs": [
    {
     "data": {
      "text/html": [
       "<div>\n",
       "<style scoped>\n",
       "    .dataframe tbody tr th:only-of-type {\n",
       "        vertical-align: middle;\n",
       "    }\n",
       "\n",
       "    .dataframe tbody tr th {\n",
       "        vertical-align: top;\n",
       "    }\n",
       "\n",
       "    .dataframe thead th {\n",
       "        text-align: right;\n",
       "    }\n",
       "</style>\n",
       "<table border=\"1\" class=\"dataframe\">\n",
       "  <thead>\n",
       "    <tr style=\"text-align: right;\">\n",
       "      <th></th>\n",
       "      <th>True %</th>\n",
       "    </tr>\n",
       "  </thead>\n",
       "  <tbody>\n",
       "    <tr>\n",
       "      <th>large_size</th>\n",
       "      <td>30.0</td>\n",
       "    </tr>\n",
       "    <tr>\n",
       "      <th>income_missing</th>\n",
       "      <td>0.0</td>\n",
       "    </tr>\n",
       "    <tr>\n",
       "      <th>high_collective_income</th>\n",
       "      <td>20.0</td>\n",
       "    </tr>\n",
       "  </tbody>\n",
       "</table>\n",
       "</div>"
      ],
      "text/plain": [
       "                        True %\n",
       "large_size                30.0\n",
       "income_missing             0.0\n",
       "high_collective_income    20.0"
      ]
     },
     "execution_count": 8,
     "metadata": {},
     "output_type": "execute_result"
    }
   ],
   "source": [
    "vd.get_summary()"
   ]
  },
  {
   "cell_type": "code",
   "execution_count": null,
   "metadata": {},
   "outputs": [],
   "source": []
  },
  {
   "cell_type": "code",
   "execution_count": null,
   "metadata": {},
   "outputs": [],
   "source": []
  },
  {
   "cell_type": "code",
   "execution_count": 29,
   "metadata": {},
   "outputs": [
    {
     "name": "stderr",
     "output_type": "stream",
     "text": [
      "DEBUG:validata.parser:Processing token: gender not missing [BARE WORD]\n",
      "DEBUG:validata.parser:Evaluating expression: gender not missing\n",
      "DEBUG:validata.evaluator:Selected columns: gender.\n",
      "DEBUG:validata.evaluator:Using comparator: NotNullComparator.\n",
      "DEBUG:validata.parser:Processing token: height between 140:240 [BARE WORD]\n",
      "DEBUG:validata.parser:Evaluating expression: height between 140:240\n",
      "DEBUG:validata.evaluator:Selected columns: height.\n",
      "DEBUG:validata.evaluator:Using comparator: BetweenComparator.\n"
     ]
    },
    {
     "name": "stdout",
     "output_type": "stream",
     "text": [
      "   gender\n",
      "0    True\n",
      "1    True\n",
      "2    True\n",
      "3   False\n",
      "   height\n",
      "0    True\n",
      "1    True\n",
      "2   False\n",
      "3    True\n"
     ]
    }
   ],
   "source": [
    "import pandas\n",
    "from validata.parser import Parser\n",
    "\n",
    "df = pd.DataFrame({\n",
    "    \"gender\": [1, 2, 1, None],\n",
    "    \"height\": [182, 172, 278, 176],\n",
    "})\n",
    "\n",
    "# Find missing values\n",
    "ps = Parser(\"gender not missing\")\n",
    "print(ps.evaluate(df))\n",
    "# Outputs [True, True, True, False]\n",
    "\n",
    "# Find (too) extreme values for height\n",
    "ps = Parser(\"height between 140:240\")\n",
    "print(ps.evaluate(df))\n",
    "# Outputs [True, True, False, True]"
   ]
  },
  {
   "cell_type": "code",
   "execution_count": null,
   "metadata": {},
   "outputs": [],
   "source": []
  }
 ],
 "metadata": {
  "kernelspec": {
   "display_name": "Python [conda env:validata]",
   "language": "python",
   "name": "conda-env-validata-py"
  },
  "language_info": {
   "codemirror_mode": {
    "name": "ipython",
    "version": 3
   },
   "file_extension": ".py",
   "mimetype": "text/x-python",
   "name": "python",
   "nbconvert_exporter": "python",
   "pygments_lexer": "ipython3",
   "version": "3.7.7"
  }
 },
 "nbformat": 4,
 "nbformat_minor": 4
}
